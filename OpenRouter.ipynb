{
  "nbformat": 4,
  "nbformat_minor": 0,
  "metadata": {
    "colab": {
      "provenance": [],
      "authorship_tag": "ABX9TyNqPtM6f3NvTwwigEaOUB35",
      "include_colab_link": true
    },
    "kernelspec": {
      "name": "python3",
      "display_name": "Python 3"
    },
    "language_info": {
      "name": "python"
    }
  },
  "cells": [
    {
      "cell_type": "markdown",
      "metadata": {
        "id": "view-in-github",
        "colab_type": "text"
      },
      "source": [
        "<a href=\"https://colab.research.google.com/github/Student-PIAIC/OpenAI-Agents/blob/main/OpenRouter.ipynb\" target=\"_parent\"><img src=\"https://colab.research.google.com/assets/colab-badge.svg\" alt=\"Open In Colab\"/></a>"
      ]
    },
    {
      "cell_type": "code",
      "execution_count": 15,
      "metadata": {
        "id": "pVHJT3dd3Htk"
      },
      "outputs": [],
      "source": [
        "!pip install -Uq openai-agents"
      ]
    },
    {
      "cell_type": "code",
      "source": [
        "import nest_asyncio\n",
        "nest_asyncio.apply()"
      ],
      "metadata": {
        "id": "_JXEhYD63yDh"
      },
      "execution_count": 2,
      "outputs": []
    },
    {
      "cell_type": "code",
      "source": [
        "from google.colab import userdata\n",
        "Open_Router_Key = userdata.get('open_router_key')"
      ],
      "metadata": {
        "id": "ZGrpho_KaQsD"
      },
      "execution_count": 3,
      "outputs": []
    },
    {
      "cell_type": "markdown",
      "source": [
        "See all Models List: https://openrouter.ai/models"
      ],
      "metadata": {
        "id": "Tko7Icxebr4L"
      }
    },
    {
      "cell_type": "code",
      "source": [
        "Base_URL = \"https://openrouter.ai/api/v1\"\n",
        "MODEL = \"deepseek/deepseek-chat-v3-0324:free\""
      ],
      "metadata": {
        "id": "NqQHOCUPbEsj"
      },
      "execution_count": 4,
      "outputs": []
    },
    {
      "cell_type": "code",
      "source": [
        "import requests\n",
        "import json\n",
        "\n",
        "response = requests.post(\n",
        "  url=f\"{Base_URL}/chat/completions\",\n",
        "    headers={\n",
        "        \"Authorization\": f\"Bearer {Open_Router_Key}\",\n",
        "    },\n",
        "    data=json.dumps({\n",
        "        \"model\": MODEL,\n",
        "        \"messages\": [\n",
        "            {\n",
        "                \"role\": \"user\",\n",
        "                \"content\": \"what is the capital of iran\"\n",
        "            }\n",
        "        ]\n",
        "    })\n",
        ")\n",
        "print(response.json())\n"
      ],
      "metadata": {
        "id": "CVy41AVtgnvj",
        "colab": {
          "base_uri": "https://localhost:8080/"
        },
        "outputId": "eeb984f9-f4db-4da0-fec3-e3dc8fd20d0b"
      },
      "execution_count": 28,
      "outputs": [
        {
          "output_type": "stream",
          "name": "stdout",
          "text": [
            "{'id': 'gen-1745693036-YhU802bHZsRXXsdtehoZ', 'provider': 'Targon', 'model': 'deepseek/deepseek-chat-v3-0324:free', 'object': 'chat.completion', 'created': 1745693036, 'choices': [{'logprobs': None, 'finish_reason': 'stop', 'native_finish_reason': 'stop', 'index': 0, 'message': {'role': 'assistant', 'content': \"The capital of Iran is **Tehran**. It is the largest city in the country and serves as its political, economic, and cultural center. Let me know if you'd like more details!\", 'refusal': None, 'reasoning': None}}], 'usage': {'prompt_tokens': 13, 'completion_tokens': 40, 'total_tokens': 53}}\n"
          ]
        }
      ]
    }
  ]
}